{
 "cells": [
  {
   "cell_type": "code",
   "execution_count": null,
   "metadata": {},
   "outputs": [],
   "source": [
    "DATASET_PATH = \"/ssd/datasets/argoverse/argoverse-forecasting-dataset/\"\n",
    "TRAIN = DATASET_PATH + \"train/data\"\n",
    "VAL = DATASET_PATH + \"val/data\"\n",
    "TEST = DATASET_PATH + \"test_obs/data/\""
   ]
  },
  {
   "cell_type": "code",
   "execution_count": null,
   "metadata": {},
   "outputs": [],
   "source": [
    "import os\n",
    "from torch.utils.data import Dataset\n",
    "from pathlib import Path\n",
    "import pandas as pd\n",
    "import numpy as np\n",
    "\n",
    "class TrajectoryDataset(Dataset):\n",
    "    \n",
    "    def __init__(self, root_dir, mode):\n",
    "        self.root_dir = Path(root_dir)\n",
    "        self.mode = mode\n",
    "        self.sequences = [(self.root_dir / x).absolute() for x in os.listdir(self.root_dir)]\n",
    "        self.obs_len = 20\n",
    "        \n",
    "    def __len__(self):\n",
    "        return len(self.sequences)\n",
    "    \n",
    "    def __getitem__(self, idx):\n",
    "        sequence = pd.read_csv(self.sequences[idx])\n",
    "        agent_x = sequence[sequence[\"OBJECT_TYPE\"] == \"AGENT\"][\"X\"]\n",
    "        agent_y = sequence[sequence[\"OBJECT_TYPE\"] == \"AGENT\"][\"Y\"]\n",
    "        agent_traj = np.column_stack((agent_x, agent_y))\n",
    "        return {\"input\": agent_traj[:self.obs_len], \"target\": agent_traj[self.obs_len:]}"
   ]
  },
  {
   "cell_type": "code",
   "execution_count": null,
   "metadata": {},
   "outputs": [],
   "source": [
    "train_dataset = TrajectoryDataset(TRAIN, \"train\")"
   ]
  },
  {
   "cell_type": "code",
   "execution_count": null,
   "metadata": {},
   "outputs": [],
   "source": [
    "from torch.utils.data import DataLoader\n",
    "train_dataloader = DataLoader(train_dataset, batch_size=16, shuffle=True, num_workers=6)"
   ]
  },
  {
   "cell_type": "code",
   "execution_count": null,
   "metadata": {},
   "outputs": [],
   "source": [
    "for i, batch in enumerate(train_dataloader):\n",
    "    if i > 10:\n",
    "        break\n",
    "    print(i, batch[\"input\"].size(), batch[\"target\"].size())\n",
    "    print(batch[\"input\"])"
   ]
  },
  {
   "cell_type": "code",
   "execution_count": null,
   "metadata": {},
   "outputs": [],
   "source": [
    "for i in range(3):\n",
    "    sample = train_dataset[i]\n",
    "    observed = sample[\"input\"]\n",
    "    prediction = sample[\"output\"]"
   ]
  }
 ],
 "metadata": {
  "kernelspec": {
   "display_name": "Python 3",
   "language": "python",
   "name": "python3"
  },
  "language_info": {
   "codemirror_mode": {
    "name": "ipython",
    "version": 3
   },
   "file_extension": ".py",
   "mimetype": "text/x-python",
   "name": "python",
   "nbconvert_exporter": "python",
   "pygments_lexer": "ipython3",
   "version": "3.6.10"
  }
 },
 "nbformat": 4,
 "nbformat_minor": 4
}
