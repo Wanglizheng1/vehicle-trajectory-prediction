{
 "cells": [
  {
   "cell_type": "markdown",
   "metadata": {},
   "source": [
    "# 导入相关库"
   ]
  },
  {
   "cell_type": "code",
   "execution_count": 1,
   "metadata": {},
   "outputs": [],
   "source": [
    "%matplotlib inline\n",
    "import os\n",
    "import pathlib\n",
    "import pandas as pd\n",
    "import numpy as np\n",
    "import torch\n",
    "import torch.nn as nn\n",
    "from torch.utils.data import Dataset, DataLoader\n",
    "from torch.nn import functional as F\n",
    "from torch.utils.tensorboard import SummaryWriter\n",
    "import pickle as pkl\n",
    "from matplotlib import pyplot as plt\n",
    "import random\n",
    "from time import time\n",
    "from tqdm.notebook import tqdm"
   ]
  },
  {
   "cell_type": "markdown",
   "metadata": {},
   "source": [
    "# 数据获取和处理"
   ]
  },
  {
   "cell_type": "code",
   "execution_count": 2,
   "metadata": {},
   "outputs": [],
   "source": [
    "# 数据目录下保存了很多csv文件，每个csv文件保存了一个5s的sequence，包含了多个车辆的轨迹信息\n",
    "DATASET_PATH = \"/ssd/datasets/argoverse/argoverse-forecasting-dataset/\"\n",
    "TRAIN = DATASET_PATH + \"train/data\"\n",
    "VAL = DATASET_PATH + \"val/data\"\n",
    "TEST = DATASET_PATH + \"test_obs/data/\"\n",
    "\n",
    "def data_process(root_dir, mode):\n",
    "    \"\"\"\n",
    "    处理root_dir目录下的CSV文件\n",
    "    返回numpy array, shape: (total num of sequences, seq len, 4)\n",
    "    \"\"\"\n",
    "    root_dir = pathlib.Path(root_dir)\n",
    "    paths = [(root_dir / filename).absolute() for filename in os.listdir(root_dir)]\n",
    "    seq_len = 50 if mode != \"test\" else 20\n",
    "    features = np.empty((len(paths), seq_len, 4))\n",
    "    for i in tqdm((range(len(paths)))):\n",
    "        path = paths[i]\n",
    "        sequence = pd.read_csv(path)\n",
    "        agent_x = sequence[sequence[\"OBJECT_TYPE\"] == \"AGENT\"][\"X\"]\n",
    "        agent_y = sequence[sequence[\"OBJECT_TYPE\"] == \"AGENT\"][\"Y\"]\n",
    "        xy = np.column_stack((agent_x, agent_y))\n",
    "        # 如果是train或者val，则xy shape: (50, 2) 记录了5秒（每秒10帧）的agent xy坐标\n",
    "        # 否则xy shape: (20, 2)，是agent前2s的xy坐标\n",
    "        vel = xy[1:] - xy[:-1]\n",
    "        init_unknown_vel = np.array([np.nan, np.nan])\n",
    "        vel = np.vstack((init_unknown_vel, vel))\n",
    "        # vel shape: (seq len, 2)，差分得到速度，初始速度无法获取，设为NaN\n",
    "        feature = np.column_stack((xy, vel))\n",
    "        # feature shape: (seq len, 4), 各列分别是x, y, vel_x, vel_y\n",
    "        features[i] = feature\n",
    "    return features\n",
    "\n",
    "def save_features_to_pkl(features, filepath):\n",
    "    basedir = os.path.dirname(filepath)\n",
    "    if not os.path.exists(basedir):\n",
    "        os.makedirs(basedir)\n",
    "    with open(filepath, 'wb') as f:\n",
    "        pkl.dump(features, f)\n",
    "        \n",
    "def load_pkl_to_features(filepath):\n",
    "    with open(filepath, 'rb') as f:\n",
    "        features = pkl.load(f)\n",
    "    return features"
   ]
  },
  {
   "cell_type": "code",
   "execution_count": 3,
   "metadata": {},
   "outputs": [
    {
     "data": {
      "application/vnd.jupyter.widget-view+json": {
       "model_id": "8155dadd4b854fd2b440fe77bbaa3d3d",
       "version_major": 2,
       "version_minor": 0
      },
      "text/plain": [
       "HBox(children=(FloatProgress(value=0.0, max=3.0), HTML(value='')))"
      ]
     },
     "metadata": {},
     "output_type": "display_data"
    },
    {
     "name": "stdout",
     "output_type": "stream",
     "text": [
      "\n"
     ]
    }
   ],
   "source": [
    "d = {\"train\": TRAIN,\n",
    "     \"val\": VAL,\n",
    "     \"test\": TEST} \n",
    "for mode, path in tqdm(d.items()):\n",
    "    save_path = 'data/{}.pkl'.format(mode)\n",
    "    if os.path.isfile(save_path):\n",
    "        continue\n",
    "    features = data_process(path, mode)\n",
    "    save_features_to_pkl(features, save_path)"
   ]
  },
  {
   "cell_type": "markdown",
   "metadata": {},
   "source": [
    "# 分析训练数据中Vx和Vy的均值和标准差"
   ]
  },
  {
   "cell_type": "code",
   "execution_count": 4,
   "metadata": {},
   "outputs": [
    {
     "name": "stdout",
     "output_type": "stream",
     "text": [
      "(205942, 50, 4)\n",
      "[ 0.01113458 -0.03050198] [0.67739089 0.81689616]\n"
     ]
    }
   ],
   "source": [
    "train_features = load_pkl_to_features(\"data/train.pkl\")\n",
    "print(train_features.shape)\n",
    "train_velocity_mean = train_features[:, 1:, 2:4].mean((0, 1))\n",
    "train_velocity_std = train_features[:, 1:, 2:4].std((0, 1))\n",
    "print(train_velocity_mean, train_velocity_std)"
   ]
  },
  {
   "cell_type": "markdown",
   "metadata": {},
   "source": [
    "# 为Pytorch模型加载数据创建接口"
   ]
  },
  {
   "cell_type": "code",
   "execution_count": 5,
   "metadata": {},
   "outputs": [],
   "source": [
    "class VelocityDataset(Dataset):\n",
    "    \n",
    "    def __init__(self, pkl_filepath, mode, obs_len = 20, transform = None):\n",
    "        self.mode = mode\n",
    "        self.features = load_pkl_to_features(pkl_filepath)\n",
    "        self.obs_len = obs_len\n",
    "        self.transform = transform\n",
    "        \n",
    "    def __len__(self):\n",
    "        return self.features.shape[0]\n",
    "    \n",
    "    def __getitem__(self, idx):\n",
    "        # 返回source以及target velocity\n",
    "        src = self.features[idx, 1:self.obs_len, 2:4]\n",
    "        trg = self.features[idx, self.obs_len:, 2:4]\n",
    "        if self.transform:\n",
    "            src = self.transform(src)\n",
    "            trg = self.transform(trg)\n",
    "        return src, trg\n",
    "    \n",
    "class WrappedDataLoader:\n",
    "    def __init__(self, dataloader, func):\n",
    "        self.dataloader = dataloader\n",
    "        self.func = func\n",
    "        \n",
    "    def __len__(self):\n",
    "        return len(self.dataloader)\n",
    "    \n",
    "    def __iter__(self):\n",
    "        iter_dataloader = iter(self.dataloader)\n",
    "        for batch in iter_dataloader:\n",
    "            yield self.func(*batch)\n",
    "\n",
    "def batch_second(x, y):\n",
    "    \"\"\"\n",
    "    输入: x = [batch size, 19, 4], y = [batch size, 30, 4]\n",
    "    我们将batch size 放到第二个维度，从而使\n",
    "    x = [19, batch size, 4]\n",
    "    y = [30, batch size, 4]\n",
    "    \"\"\"\n",
    "    return x.transpose(0, 1), y.transpose(0, 1)"
   ]
  },
  {
   "cell_type": "markdown",
   "metadata": {},
   "source": [
    "# 数据预处理（转换为Tensor，归一化，batch换到第二个维度方便使用nn.Transformer）"
   ]
  },
  {
   "cell_type": "code",
   "execution_count": 6,
   "metadata": {},
   "outputs": [],
   "source": [
    "class Normalize:\n",
    "    \"\"\"\n",
    "    对输入数据进行归一化处理\n",
    "    \"\"\"\n",
    "    def __init__(self, mean, std):\n",
    "        self.mean = torch.Tensor(mean) \n",
    "        self.std = torch.Tensor(std)\n",
    "\n",
    "    def __call__(self, x):\n",
    "        x = torch.Tensor(x)\n",
    "        return x.sub_(self.mean).div_(self.std)\n",
    "        \n",
    "transform = Normalize(mean=train_velocity_mean, std=train_velocity_std)\n",
    "\n",
    "train_dataset = VelocityDataset(\"data/train.pkl\", \"train\", transform=transform)\n",
    "val_dataset = VelocityDataset(\"data/val.pkl\", \"val\", transform=transform)\n",
    "test_dataset = VelocityDataset(\"data/test.pkl\", \"test\", transform=transform)\n",
    "\n",
    "BATCH_SIZE = 128\n",
    "\n",
    "train_loader = DataLoader(train_dataset, batch_size=BATCH_SIZE, shuffle=True, num_workers=6)\n",
    "train_loader = WrappedDataLoader(train_loader, batch_second)\n",
    "\n",
    "val_loader = DataLoader(val_dataset, batch_size=BATCH_SIZE * 2, shuffle=False, num_workers=6)\n",
    "val_loader = WrappedDataLoader(val_loader, batch_second)"
   ]
  },
  {
   "cell_type": "code",
   "execution_count": 7,
   "metadata": {},
   "outputs": [
    {
     "name": "stdout",
     "output_type": "stream",
     "text": [
      "torch.Size([19, 128, 2]) torch.Size([30, 128, 2])\n"
     ]
    }
   ],
   "source": [
    "for x, y in train_loader:\n",
    "    print(x.shape, y.shape)\n",
    "    break"
   ]
  },
  {
   "cell_type": "markdown",
   "metadata": {},
   "source": [
    "# 定义Transformer模型"
   ]
  },
  {
   "cell_type": "code",
   "execution_count": 8,
   "metadata": {},
   "outputs": [],
   "source": [
    "class TrajectoryTransformer(nn.Module):\n",
    "    def __init__(self,\n",
    "                 device,\n",
    "                 source_seq_len: int = 19,\n",
    "                 target_seq_len: int = 30,\n",
    "                 input_dim: int = 2,\n",
    "                 output_dim: int = 2,\n",
    "                 d_model: int = 512,\n",
    "                 nhead: int = 8,\n",
    "                 num_encoder_layers: int = 6,\n",
    "                 num_decoder_layers: int = 6,\n",
    "                 dim_feedforward: int = 2048,\n",
    "                 dropout: float = 0.1,\n",
    "                 activation: str = 'relu'):\n",
    "        super().__init__()\n",
    "        self.source_seq_len = source_seq_len\n",
    "        self.target_seq_len = target_seq_len\n",
    "        self.input_dim = input_dim\n",
    "        self.output_dim = output_dim\n",
    "        self.total_seq_len = self.source_seq_len + self.target_seq_len\n",
    "        self.device = device\n",
    "        self.scale = torch.sqrt(torch.FloatTensor([d_model])).to(device)\n",
    "        \n",
    "        self.encoder_embedding = nn.Linear(input_dim, d_model)\n",
    "        self.decoder_embedding = nn.Linear(output_dim, d_model)\n",
    "        self.pos_embedding = nn.Embedding(self.total_seq_len, d_model)\n",
    "        self.transformer = nn.Transformer(d_model,\n",
    "                                          nhead,\n",
    "                                          num_encoder_layers,\n",
    "                                          num_decoder_layers,\n",
    "                                          dim_feedforward,\n",
    "                                          dropout,\n",
    "                                          activation)\n",
    "        self.linear = nn.Linear(d_model, output_dim)\n",
    "    \n",
    "    def forward(self, src, trg):\n",
    "        \"\"\"\n",
    "        src shape: (19, batch size, 2)\n",
    "        trg shape: (30, batch size, 2)\n",
    "        \"\"\"\n",
    "        decoder_input_len = trg.shape[0]\n",
    "        decoder_mask = self.transformer.generate_square_subsequent_mask(decoder_input_len).to(self.device)\n",
    "        # decoder_mask shape: (30, 30), 用来进行30次计算（可并行），每次计算用mask的一行\n",
    "        \n",
    "        encoder_input = self.encoder_embedding(src) * self.scale\n",
    "        # encoder_input shape: (19, batch size, 512)\n",
    "        \n",
    "        encoder_pos_embedding =  self.pos_embedding(\n",
    "                                    torch.arange(0, self.source_seq_len, device=self.device)\n",
    "                                 ).unsqueeze(1)\n",
    "        # encoder_pos_embedding shape: (19, 1, 512), add second dim to allow broadcasting addition\n",
    "        \n",
    "        encoder_input += encoder_pos_embedding \n",
    "        \n",
    "        \n",
    "        # concat start of sequence (zeros) with trg without last item to form decoder input\n",
    "        start_of_sequence = torch.zeros(1, trg.shape[1], trg.shape[2], device=self.device)\n",
    "        decoder_input = torch.cat((start_of_sequence, trg[:-1, :, :]), 0)\n",
    "        \n",
    "        decoder_input = self.decoder_embedding(decoder_input) * self.scale + \\\n",
    "                        self.pos_embedding(\n",
    "                            torch.arange(self.source_seq_len,\n",
    "                                         self.total_seq_len,\n",
    "                                         device=self.device)\n",
    "                        ).unsqueeze(1)\n",
    "        # decoder_input shape: (30, batch size, 512)\n",
    "        \n",
    "        output = self.transformer(encoder_input, decoder_input, tgt_mask = decoder_mask)\n",
    "        # output shape: (30, batch size, 512)\n",
    "        \n",
    "        return self.linear(output)\n",
    "        # return tensor shape: (30, batch size, 2)"
   ]
  },
  {
   "cell_type": "markdown",
   "metadata": {},
   "source": [
    "# 创建模型并初始化模型参数"
   ]
  },
  {
   "cell_type": "code",
   "execution_count": 9,
   "metadata": {},
   "outputs": [
    {
     "name": "stdout",
     "output_type": "stream",
     "text": [
      "cuda:0\n",
      "The model has 44,169,730 trainable parameters\n"
     ]
    },
    {
     "data": {
      "text/plain": [
       "TrajectoryTransformer(\n",
       "  (encoder_embedding): Linear(in_features=2, out_features=512, bias=True)\n",
       "  (decoder_embedding): Linear(in_features=2, out_features=512, bias=True)\n",
       "  (pos_embedding): Embedding(49, 512)\n",
       "  (transformer): Transformer(\n",
       "    (encoder): TransformerEncoder(\n",
       "      (layers): ModuleList(\n",
       "        (0): TransformerEncoderLayer(\n",
       "          (self_attn): MultiheadAttention(\n",
       "            (out_proj): Linear(in_features=512, out_features=512, bias=True)\n",
       "          )\n",
       "          (linear1): Linear(in_features=512, out_features=2048, bias=True)\n",
       "          (dropout): Dropout(p=0.1, inplace=False)\n",
       "          (linear2): Linear(in_features=2048, out_features=512, bias=True)\n",
       "          (norm1): LayerNorm((512,), eps=1e-05, elementwise_affine=True)\n",
       "          (norm2): LayerNorm((512,), eps=1e-05, elementwise_affine=True)\n",
       "          (dropout1): Dropout(p=0.1, inplace=False)\n",
       "          (dropout2): Dropout(p=0.1, inplace=False)\n",
       "        )\n",
       "        (1): TransformerEncoderLayer(\n",
       "          (self_attn): MultiheadAttention(\n",
       "            (out_proj): Linear(in_features=512, out_features=512, bias=True)\n",
       "          )\n",
       "          (linear1): Linear(in_features=512, out_features=2048, bias=True)\n",
       "          (dropout): Dropout(p=0.1, inplace=False)\n",
       "          (linear2): Linear(in_features=2048, out_features=512, bias=True)\n",
       "          (norm1): LayerNorm((512,), eps=1e-05, elementwise_affine=True)\n",
       "          (norm2): LayerNorm((512,), eps=1e-05, elementwise_affine=True)\n",
       "          (dropout1): Dropout(p=0.1, inplace=False)\n",
       "          (dropout2): Dropout(p=0.1, inplace=False)\n",
       "        )\n",
       "        (2): TransformerEncoderLayer(\n",
       "          (self_attn): MultiheadAttention(\n",
       "            (out_proj): Linear(in_features=512, out_features=512, bias=True)\n",
       "          )\n",
       "          (linear1): Linear(in_features=512, out_features=2048, bias=True)\n",
       "          (dropout): Dropout(p=0.1, inplace=False)\n",
       "          (linear2): Linear(in_features=2048, out_features=512, bias=True)\n",
       "          (norm1): LayerNorm((512,), eps=1e-05, elementwise_affine=True)\n",
       "          (norm2): LayerNorm((512,), eps=1e-05, elementwise_affine=True)\n",
       "          (dropout1): Dropout(p=0.1, inplace=False)\n",
       "          (dropout2): Dropout(p=0.1, inplace=False)\n",
       "        )\n",
       "        (3): TransformerEncoderLayer(\n",
       "          (self_attn): MultiheadAttention(\n",
       "            (out_proj): Linear(in_features=512, out_features=512, bias=True)\n",
       "          )\n",
       "          (linear1): Linear(in_features=512, out_features=2048, bias=True)\n",
       "          (dropout): Dropout(p=0.1, inplace=False)\n",
       "          (linear2): Linear(in_features=2048, out_features=512, bias=True)\n",
       "          (norm1): LayerNorm((512,), eps=1e-05, elementwise_affine=True)\n",
       "          (norm2): LayerNorm((512,), eps=1e-05, elementwise_affine=True)\n",
       "          (dropout1): Dropout(p=0.1, inplace=False)\n",
       "          (dropout2): Dropout(p=0.1, inplace=False)\n",
       "        )\n",
       "        (4): TransformerEncoderLayer(\n",
       "          (self_attn): MultiheadAttention(\n",
       "            (out_proj): Linear(in_features=512, out_features=512, bias=True)\n",
       "          )\n",
       "          (linear1): Linear(in_features=512, out_features=2048, bias=True)\n",
       "          (dropout): Dropout(p=0.1, inplace=False)\n",
       "          (linear2): Linear(in_features=2048, out_features=512, bias=True)\n",
       "          (norm1): LayerNorm((512,), eps=1e-05, elementwise_affine=True)\n",
       "          (norm2): LayerNorm((512,), eps=1e-05, elementwise_affine=True)\n",
       "          (dropout1): Dropout(p=0.1, inplace=False)\n",
       "          (dropout2): Dropout(p=0.1, inplace=False)\n",
       "        )\n",
       "        (5): TransformerEncoderLayer(\n",
       "          (self_attn): MultiheadAttention(\n",
       "            (out_proj): Linear(in_features=512, out_features=512, bias=True)\n",
       "          )\n",
       "          (linear1): Linear(in_features=512, out_features=2048, bias=True)\n",
       "          (dropout): Dropout(p=0.1, inplace=False)\n",
       "          (linear2): Linear(in_features=2048, out_features=512, bias=True)\n",
       "          (norm1): LayerNorm((512,), eps=1e-05, elementwise_affine=True)\n",
       "          (norm2): LayerNorm((512,), eps=1e-05, elementwise_affine=True)\n",
       "          (dropout1): Dropout(p=0.1, inplace=False)\n",
       "          (dropout2): Dropout(p=0.1, inplace=False)\n",
       "        )\n",
       "      )\n",
       "      (norm): LayerNorm((512,), eps=1e-05, elementwise_affine=True)\n",
       "    )\n",
       "    (decoder): TransformerDecoder(\n",
       "      (layers): ModuleList(\n",
       "        (0): TransformerDecoderLayer(\n",
       "          (self_attn): MultiheadAttention(\n",
       "            (out_proj): Linear(in_features=512, out_features=512, bias=True)\n",
       "          )\n",
       "          (multihead_attn): MultiheadAttention(\n",
       "            (out_proj): Linear(in_features=512, out_features=512, bias=True)\n",
       "          )\n",
       "          (linear1): Linear(in_features=512, out_features=2048, bias=True)\n",
       "          (dropout): Dropout(p=0.1, inplace=False)\n",
       "          (linear2): Linear(in_features=2048, out_features=512, bias=True)\n",
       "          (norm1): LayerNorm((512,), eps=1e-05, elementwise_affine=True)\n",
       "          (norm2): LayerNorm((512,), eps=1e-05, elementwise_affine=True)\n",
       "          (norm3): LayerNorm((512,), eps=1e-05, elementwise_affine=True)\n",
       "          (dropout1): Dropout(p=0.1, inplace=False)\n",
       "          (dropout2): Dropout(p=0.1, inplace=False)\n",
       "          (dropout3): Dropout(p=0.1, inplace=False)\n",
       "        )\n",
       "        (1): TransformerDecoderLayer(\n",
       "          (self_attn): MultiheadAttention(\n",
       "            (out_proj): Linear(in_features=512, out_features=512, bias=True)\n",
       "          )\n",
       "          (multihead_attn): MultiheadAttention(\n",
       "            (out_proj): Linear(in_features=512, out_features=512, bias=True)\n",
       "          )\n",
       "          (linear1): Linear(in_features=512, out_features=2048, bias=True)\n",
       "          (dropout): Dropout(p=0.1, inplace=False)\n",
       "          (linear2): Linear(in_features=2048, out_features=512, bias=True)\n",
       "          (norm1): LayerNorm((512,), eps=1e-05, elementwise_affine=True)\n",
       "          (norm2): LayerNorm((512,), eps=1e-05, elementwise_affine=True)\n",
       "          (norm3): LayerNorm((512,), eps=1e-05, elementwise_affine=True)\n",
       "          (dropout1): Dropout(p=0.1, inplace=False)\n",
       "          (dropout2): Dropout(p=0.1, inplace=False)\n",
       "          (dropout3): Dropout(p=0.1, inplace=False)\n",
       "        )\n",
       "        (2): TransformerDecoderLayer(\n",
       "          (self_attn): MultiheadAttention(\n",
       "            (out_proj): Linear(in_features=512, out_features=512, bias=True)\n",
       "          )\n",
       "          (multihead_attn): MultiheadAttention(\n",
       "            (out_proj): Linear(in_features=512, out_features=512, bias=True)\n",
       "          )\n",
       "          (linear1): Linear(in_features=512, out_features=2048, bias=True)\n",
       "          (dropout): Dropout(p=0.1, inplace=False)\n",
       "          (linear2): Linear(in_features=2048, out_features=512, bias=True)\n",
       "          (norm1): LayerNorm((512,), eps=1e-05, elementwise_affine=True)\n",
       "          (norm2): LayerNorm((512,), eps=1e-05, elementwise_affine=True)\n",
       "          (norm3): LayerNorm((512,), eps=1e-05, elementwise_affine=True)\n",
       "          (dropout1): Dropout(p=0.1, inplace=False)\n",
       "          (dropout2): Dropout(p=0.1, inplace=False)\n",
       "          (dropout3): Dropout(p=0.1, inplace=False)\n",
       "        )\n",
       "        (3): TransformerDecoderLayer(\n",
       "          (self_attn): MultiheadAttention(\n",
       "            (out_proj): Linear(in_features=512, out_features=512, bias=True)\n",
       "          )\n",
       "          (multihead_attn): MultiheadAttention(\n",
       "            (out_proj): Linear(in_features=512, out_features=512, bias=True)\n",
       "          )\n",
       "          (linear1): Linear(in_features=512, out_features=2048, bias=True)\n",
       "          (dropout): Dropout(p=0.1, inplace=False)\n",
       "          (linear2): Linear(in_features=2048, out_features=512, bias=True)\n",
       "          (norm1): LayerNorm((512,), eps=1e-05, elementwise_affine=True)\n",
       "          (norm2): LayerNorm((512,), eps=1e-05, elementwise_affine=True)\n",
       "          (norm3): LayerNorm((512,), eps=1e-05, elementwise_affine=True)\n",
       "          (dropout1): Dropout(p=0.1, inplace=False)\n",
       "          (dropout2): Dropout(p=0.1, inplace=False)\n",
       "          (dropout3): Dropout(p=0.1, inplace=False)\n",
       "        )\n",
       "        (4): TransformerDecoderLayer(\n",
       "          (self_attn): MultiheadAttention(\n",
       "            (out_proj): Linear(in_features=512, out_features=512, bias=True)\n",
       "          )\n",
       "          (multihead_attn): MultiheadAttention(\n",
       "            (out_proj): Linear(in_features=512, out_features=512, bias=True)\n",
       "          )\n",
       "          (linear1): Linear(in_features=512, out_features=2048, bias=True)\n",
       "          (dropout): Dropout(p=0.1, inplace=False)\n",
       "          (linear2): Linear(in_features=2048, out_features=512, bias=True)\n",
       "          (norm1): LayerNorm((512,), eps=1e-05, elementwise_affine=True)\n",
       "          (norm2): LayerNorm((512,), eps=1e-05, elementwise_affine=True)\n",
       "          (norm3): LayerNorm((512,), eps=1e-05, elementwise_affine=True)\n",
       "          (dropout1): Dropout(p=0.1, inplace=False)\n",
       "          (dropout2): Dropout(p=0.1, inplace=False)\n",
       "          (dropout3): Dropout(p=0.1, inplace=False)\n",
       "        )\n",
       "        (5): TransformerDecoderLayer(\n",
       "          (self_attn): MultiheadAttention(\n",
       "            (out_proj): Linear(in_features=512, out_features=512, bias=True)\n",
       "          )\n",
       "          (multihead_attn): MultiheadAttention(\n",
       "            (out_proj): Linear(in_features=512, out_features=512, bias=True)\n",
       "          )\n",
       "          (linear1): Linear(in_features=512, out_features=2048, bias=True)\n",
       "          (dropout): Dropout(p=0.1, inplace=False)\n",
       "          (linear2): Linear(in_features=2048, out_features=512, bias=True)\n",
       "          (norm1): LayerNorm((512,), eps=1e-05, elementwise_affine=True)\n",
       "          (norm2): LayerNorm((512,), eps=1e-05, elementwise_affine=True)\n",
       "          (norm3): LayerNorm((512,), eps=1e-05, elementwise_affine=True)\n",
       "          (dropout1): Dropout(p=0.1, inplace=False)\n",
       "          (dropout2): Dropout(p=0.1, inplace=False)\n",
       "          (dropout3): Dropout(p=0.1, inplace=False)\n",
       "        )\n",
       "      )\n",
       "      (norm): LayerNorm((512,), eps=1e-05, elementwise_affine=True)\n",
       "    )\n",
       "  )\n",
       "  (linear): Linear(in_features=512, out_features=2, bias=True)\n",
       ")"
      ]
     },
     "execution_count": 9,
     "metadata": {},
     "output_type": "execute_result"
    }
   ],
   "source": [
    "def count_parameters(model):\n",
    "    return sum(p.numel() for p in model.parameters() if p.requires_grad)\n",
    "\n",
    "\n",
    "def initialize_weights(model):\n",
    "    if hasattr(model, 'weight') and model.weight.dim() > 1:\n",
    "        nn.init.xavier_uniform_(model.weight.data)\n",
    "        \n",
    "dev = torch.device(\"cuda:0\" if torch.cuda.is_available() else \"cpu\")\n",
    "print(dev)\n",
    "model = TrajectoryTransformer(device = dev).to(dev)\n",
    "print(f'The model has {count_parameters(model):,} trainable parameters')\n",
    "model.apply(initialize_weights)"
   ]
  },
  {
   "cell_type": "markdown",
   "metadata": {},
   "source": [
    "# 创建自定义损失函数EuclideanDistanceLoss"
   ]
  },
  {
   "cell_type": "code",
   "execution_count": 10,
   "metadata": {},
   "outputs": [
    {
     "name": "stdout",
     "output_type": "stream",
     "text": [
      "tensor(2.3903)\n"
     ]
    }
   ],
   "source": [
    "def EuclideanDistanceLoss(output, target):\n",
    "    \"\"\"\n",
    "    output shape: (30, batch size, 2), 为预测的车辆速度\n",
    "    target shape is the same, 为车辆速度真值\n",
    "    这里我们计算所有预测速度和真实速度的欧几里得距离，然后将计算结果取平均得到我们的损失\n",
    "    \"\"\"\n",
    "    output = output.contiguous().view(-1, 2)\n",
    "    target = target.contiguous().view(-1, 2)\n",
    "    return F.pairwise_distance(output, target).mean()\n",
    "\n",
    "for x, y in train_loader:\n",
    "    print(EuclideanDistanceLoss(x, -x))\n",
    "    break"
   ]
  },
  {
   "cell_type": "markdown",
   "metadata": {},
   "source": [
    "# 初始化optimizer以及criterion"
   ]
  },
  {
   "cell_type": "code",
   "execution_count": 11,
   "metadata": {},
   "outputs": [],
   "source": [
    "LEARNING_RATE = 0.0001\n",
    "optimizer = torch.optim.Adam(model.parameters(), lr = LEARNING_RATE)\n",
    "criterion = EuclideanDistanceLoss"
   ]
  },
  {
   "cell_type": "markdown",
   "metadata": {},
   "source": [
    "# 定义训练和测试流程"
   ]
  },
  {
   "cell_type": "code",
   "execution_count": 12,
   "metadata": {},
   "outputs": [],
   "source": [
    "def train(model, iterator, optimizer, criterion, clip):\n",
    "    model.train()\n",
    "    epoch_loss = 0\n",
    "    for i, (src, trg) in tqdm(enumerate(iterator), total=len(iterator)):\n",
    "        src = src.to(dev)\n",
    "        trg = trg.to(dev)\n",
    "        \n",
    "        optimizer.zero_grad()\n",
    "        output = model(src, trg)\n",
    "        loss = criterion(output, trg)\n",
    "        loss.backward()\n",
    "        torch.nn.utils.clip_grad_norm_(model.parameters(), clip)\n",
    "        optimizer.step()\n",
    "        epoch_loss += loss.item()\n",
    "        \n",
    "    return epoch_loss / len(iterator)\n",
    "\n",
    "def evaluate(model, iterator, criterion):\n",
    "    model.eval()\n",
    "    epoch_loss = 0\n",
    "    with torch.no_grad():\n",
    "        for i, (src, trg) in tqdm(enumerate(iterator), total=len(iterator)):\n",
    "            src = src.to(dev)\n",
    "            trg = trg.to(dev)\n",
    "            \n",
    "            output = model(src, trg)\n",
    "            loss = criterion(output, trg)\n",
    "            epoch_loss += loss.item()\n",
    "        \n",
    "    return epoch_loss / len(iterator)"
   ]
  },
  {
   "cell_type": "markdown",
   "metadata": {},
   "source": [
    "# 定义推理流程并做一些可视化\n",
    "推理是比较有难度的部分，看起来不是特别直观。\n",
    "\n",
    "注意尽管我们之前都是给模型直接传入理想的输出，但是在推理的时候，这个信息一般是没有的，所以我们需要迭代地计算出每一步的输出，并将这个输出加入到下一次的输入, 这个是大致的思路。\n",
    "\n",
    "另外，虽然我们在训练的时候传入的decode input的序列长度都是30，但是实际上Transformer decoder可以接受变长的序列长度输入，所以我们开始的时候可以直接给decoder传入一个序列长度的sequence，然后每一轮迭代将输出结果添加到这个sequence中，最后我们就获得了包含start of sequence以及30个预测点的输出。"
   ]
  },
  {
   "cell_type": "code",
   "execution_count": 13,
   "metadata": {},
   "outputs": [],
   "source": [
    "def predict(model, agent_observed_vels):\n",
    "    \"\"\"\n",
    "    agent_observed_vels: [19, 2]\n",
    "    return predicted vels: [30, 2]\n",
    "    \"\"\"\n",
    "    model.eval()\n",
    "    with torch.no_grad():\n",
    "        encoder_input = torch.Tensor(agent_observed_vels).unsqueeze(1).to(model.device)\n",
    "        encoder_input = model.encoder_embedding(encoder_input) * model.scale + \\\n",
    "                        model.pos_embedding(\n",
    "                            torch.arange(0, model.source_seq_len, device=model.device)\n",
    "                        ).unsqueeze(1)\n",
    "        # encoder_pos_embedding shape: (19, 1, 512)\n",
    "        \n",
    "        # 保存encoder的输出结果, 之后传给decoder\n",
    "        memory = model.transformer.encoder(encoder_input)\n",
    "        \n",
    "        prediction = torch.zeros(model.target_seq_len + 1, 1, model.output_dim, device=model.device)\n",
    "        # prediction shape: (31, 1, 2), 用来保存start of sequence以及之后计算得到的输出序列 \n",
    "        for i in range(model.target_seq_len):\n",
    "            cur_len = i + 1\n",
    "            decoder_mask = model.transformer.generate_square_subsequent_mask(cur_len).to(model.device)\n",
    "            decoder_input = prediction[:cur_len]\n",
    "            decoder_input = model.decoder_embedding(decoder_input) * model.scale + \\\n",
    "                            model.pos_embedding(\n",
    "                                torch.arange(model.source_seq_len,\n",
    "                                             model.source_seq_len + cur_len,\n",
    "                                             device=model.device)\n",
    "                            ).unsqueeze(1)\n",
    "            out = model.transformer.decoder(decoder_input, memory, decoder_mask)\n",
    "            output = model.linear(out)\n",
    "            prediction[cur_len] = output[i]\n",
    "        return prediction[1:].squeeze(1)"
   ]
  },
  {
   "cell_type": "code",
   "execution_count": 14,
   "metadata": {},
   "outputs": [],
   "source": [
    "def vels_to_coords(vels, start = np.zeros((1, 2))):\n",
    "    xy = np.zeros(vels.shape)\n",
    "    xy[0] = start\n",
    "    for i in range(1, vels.shape[0]):\n",
    "        xy[i] = vels[i]\n",
    "        xy[i] += xy[i - 1]\n",
    "    return xy\n",
    "        \n",
    "def plot_trajectory(prediction, groud_truth = None, obs_len = 20, start = np.zeros((1, 2))):\n",
    "    pred_xy = vels_to_coords(prediction, start)\n",
    "    figure = plt.figure(figsize=(10,10))\n",
    "    plt.scatter(pred_xy[:obs_len, 0], pred_xy[:obs_len, 1], label=\"observed trajectory\")\n",
    "    plt.scatter(pred_xy[obs_len:, 0], pred_xy[obs_len:, 1], label=\"prediction\")\n",
    "    if groud_truth is not None:\n",
    "        gt_xy = vels_to_coords(groud_truth, start)\n",
    "        plt.scatter(gt_xy[obs_len:, 0], gt_xy[obs_len:, 1], label=\"ground truth\")\n",
    "    plt.legend()\n",
    "    return figure"
   ]
  },
  {
   "cell_type": "code",
   "execution_count": 15,
   "metadata": {},
   "outputs": [
    {
     "data": {
      "image/png": "[encoded data removed]",
      "text/plain": [
       "<Figure size 720x720 with 1 Axes>"
      ]
     },
     "metadata": {
      "needs_background": "light"
     },
     "output_type": "display_data"
    }
   ],
   "source": [
    "def plot_random_sample(model, dataset):\n",
    "    idx = random.randrange(len(dataset))\n",
    "    x, y = dataset[idx]\n",
    "    y_pred = predict(model, x)\n",
    "    y_pred = y_pred.cpu().numpy()\n",
    "    x, y = x.cpu().numpy(), y.cpu().numpy()\n",
    "    zero = np.zeros((1, 2))\n",
    "    ground_truth = np.concatenate((zero, x, y), axis=0)\n",
    "    prediction = np.concatenate((zero, x, y_pred), axis=0)\n",
    "    return plot_trajectory(prediction, ground_truth)\n",
    "fig = plot_random_sample(model, train_dataset)"
   ]
  },
  {
   "cell_type": "markdown",
   "metadata": {},
   "source": [
    "# 开始训练 "
   ]
  },
  {
   "cell_type": "code",
   "execution_count": 16,
   "metadata": {},
   "outputs": [],
   "source": [
    "best_val_loss = float('inf')"
   ]
  },
  {
   "cell_type": "code",
   "execution_count": 17,
   "metadata": {},
   "outputs": [],
   "source": [
    "start_epoch = 0"
   ]
  },
  {
   "cell_type": "code",
   "execution_count": null,
   "metadata": {},
   "outputs": [
    {
     "name": "stdout",
     "output_type": "stream",
     "text": [
      "successfully load previous best model parameters\n"
     ]
    },
    {
     "data": {
      "application/vnd.jupyter.widget-view+json": {
       "model_id": "26f651c807844a57ae854c176a419d01",
       "version_major": 2,
       "version_minor": 0
      },
      "text/plain": [
       "HBox(children=(FloatProgress(value=0.0), HTML(value='')))"
      ]
     },
     "metadata": {},
     "output_type": "display_data"
    },
    {
     "data": {
      "application/vnd.jupyter.widget-view+json": {
       "model_id": "a5cb15f6964044ffbe19f839edbedd0d",
       "version_major": 2,
       "version_minor": 0
      },
      "text/plain": [
       "HBox(children=(FloatProgress(value=0.0, max=1609.0), HTML(value='')))"
      ]
     },
     "metadata": {},
     "output_type": "display_data"
    }
   ],
   "source": [
    "N_EPOCHES = 100\n",
    "writer = SummaryWriter(\"runs/transformer_experiment_3\")\n",
    "CLIP = 1\n",
    "\n",
    "# load previous best model params if exists\n",
    "model_dir = \"saved_models/ReformattedTransformer\"\n",
    "saved_model_path = model_dir + \"/best_transformer.pt\"\n",
    "if os.path.isfile(saved_model_path):\n",
    "    model.load_state_dict(torch.load(saved_model_path))\n",
    "    print(\"successfully load previous best model parameters\")\n",
    "    \n",
    "for epoch in tqdm(range(N_EPOCHES)):\n",
    "    train_loss = train(model, train_loader, optimizer, criterion, CLIP)\n",
    "    val_loss = evaluate(model, val_loader, criterion)\n",
    "    \n",
    "    print(F'Epoch: {epoch+1:02}')\n",
    "    print(F'\\tTrain Loss: {train_loss:.3f}')\n",
    "    print(F'\\t Val. Loss: {val_loss:.3f}')\n",
    "    \n",
    "    step = start_epoch + epoch\n",
    "    writer.add_scalar('Loss/train', train_loss, step)\n",
    "    writer.add_scalar('Loss/val', val_loss, step)\n",
    "    writer.add_figure('Image/train', plot_random_sample(model, train_dataset), step)\n",
    "    writer.add_figure('Image/val', plot_random_sample(model, val_dataset), step)\n",
    "    writer.flush()\n",
    "\n",
    "    if val_loss < best_val_loss:\n",
    "        os.makedirs(model_dir, exist_ok=True)\n",
    "        torch.save(model.state_dict(), saved_model_path)\n",
    "        \n",
    "start_epoch += N_EPOCHES\n",
    "writer.close()"
   ]
  },
  {
   "cell_type": "code",
   "execution_count": null,
   "metadata": {},
   "outputs": [],
   "source": []
  }
 ],
 "metadata": {
  "kernelspec": {
   "display_name": "Python 3",
   "language": "python",
   "name": "python3"
  },
  "language_info": {
   "codemirror_mode": {
    "name": "ipython",
    "version": 3
   },
   "file_extension": ".py",
   "mimetype": "text/x-python",
   "name": "python",
   "nbconvert_exporter": "python",
   "pygments_lexer": "ipython3",
   "version": "3.6.10"
  }
 },
 "nbformat": 4,
 "nbformat_minor": 4
}
